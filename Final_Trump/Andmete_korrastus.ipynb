{
 "cells": [
  {
   "cell_type": "code",
   "execution_count": 1,
   "id": "72735d81-514a-4d03-a60e-59af0fecc758",
   "metadata": {},
   "outputs": [],
   "source": [
    "import json\n",
    "import csv\n",
    "import re"
   ]
  },
  {
   "cell_type": "code",
   "execution_count": 2,
   "id": "4a6ab31e-fe73-4a7c-b26b-428bf59bbc17",
   "metadata": {},
   "outputs": [],
   "source": [
    "# json to csv"
   ]
  },
  {
   "cell_type": "code",
   "execution_count": 3,
   "id": "5e223eed-f184-4bad-9c3c-59bff3f2b652",
   "metadata": {},
   "outputs": [
    {
     "name": "stdout",
     "output_type": "stream",
     "text": [
      "Json fail muudetud csv failiks scraped_csv.csv\n"
     ]
    }
   ],
   "source": [
    "# Json faili sisse import\n",
    "with open(\"scraped_listings.json\", \"r\", encoding=\"utf-8\") as f:\n",
    "    data = json.load(f)\n",
    "\n",
    "# Csv faili väljade defineerimine\n",
    "csv_file = \"scraped_csv.csv\"\n",
    "fieldnames = [\"id\", \"price\", \"latitude\",\"longitude\", \"katastrinumber\", \"url\"]\n",
    "\n",
    "# Csv faili andmete kirjutamine\n",
    "with open(csv_file, \"w\", encoding=\"utf-8\", newline=\"\") as f:\n",
    "    writer = csv.DictWriter(f, fieldnames=fieldnames)\n",
    "    writer.writeheader()\n",
    "    writer.writerows(data)\n",
    "\n",
    "print(f\"Json fail muudetud csv failiks {csv_file}\")"
   ]
  },
  {
   "cell_type": "code",
   "execution_count": 4,
   "id": "14e5cd63-e5e4-4041-af84-54b44539b816",
   "metadata": {},
   "outputs": [],
   "source": [
    "# csv korrastamine"
   ]
  },
  {
   "cell_type": "code",
   "execution_count": 5,
   "id": "e63790c3-f754-4e33-ba1e-f9cfabf158aa",
   "metadata": {},
   "outputs": [
    {
     "name": "stdout",
     "output_type": "stream",
     "text": [
      "Fail salvesati nimega split_prices.csv\n"
     ]
    }
   ],
   "source": [
    "input_file = \"scraped_csv.csv\"\n",
    "output_file = \"split_prices.csv\"\n",
    "\n",
    "with open(input_file, mode='r', encoding='utf-8') as infile, \\\n",
    "     open(output_file, mode='w', encoding='utf-8', newline='') as outfile:\n",
    "\n",
    "    reader = csv.DictReader(infile)\n",
    "    fieldnames = ['id', 'price', 'price_per_m2', 'latitude', 'longitude', 'katastrinumber', 'url']\n",
    "    writer = csv.DictWriter(outfile, fieldnames=fieldnames)\n",
    "\n",
    "    writer.writeheader()\n",
    "\n",
    "    for row in reader:\n",
    "        full_price = row['price']\n",
    "        price, price_per_m2 = None, None\n",
    "\n",
    "        if full_price:\n",
    "            # Hinna väljakorjamine(number enne \"€\") ja (price per m2) ruutmeetri hind (number enne \"€/m²\")\n",
    "            match = re.match(r'([\\d\\s]+)€\\s+([\\d.]+)\\s*€/m²', full_price)\n",
    "            if match:\n",
    "                price = match.group(1).replace('\\xa0', '').replace(' ', '').strip()\n",
    "                price_per_m2 = match.group(2).strip()\n",
    "\n",
    "        writer.writerow({\n",
    "            'id': row['id'],\n",
    "            'price': price,\n",
    "            'price_per_m2': price_per_m2,\n",
    "            'latitude': row['latitude'],\n",
    "            'longitude': row['longitude'],\n",
    "            'katastrinumber': row['katastrinumber'],\n",
    "            'url': row['url']\n",
    "        })\n",
    "\n",
    "print(f\"Fail salvesati nimega {output_file}\")"
   ]
  },
  {
   "cell_type": "code",
   "execution_count": null,
   "id": "4f30ea7e-411d-49c1-ba35-6c50bed7b962",
   "metadata": {},
   "outputs": [],
   "source": [
    "# PEALE SEDA TULEKS LIIKUDA SKRIPTI vorgustikuanaluus.ipynb"
   ]
  }
 ],
 "metadata": {
  "kernelspec": {
   "display_name": "geopython2025",
   "language": "python",
   "name": "geopython2025"
  },
  "language_info": {
   "codemirror_mode": {
    "name": "ipython",
    "version": 3
   },
   "file_extension": ".py",
   "mimetype": "text/x-python",
   "name": "python",
   "nbconvert_exporter": "python",
   "pygments_lexer": "ipython3",
   "version": "3.11.11"
  }
 },
 "nbformat": 4,
 "nbformat_minor": 5
}
